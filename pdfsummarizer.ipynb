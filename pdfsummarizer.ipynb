{
 "cells": [
  {
   "cell_type": "code",
   "execution_count": 1,
   "metadata": {},
   "outputs": [],
   "source": [
    "import os\n",
    "from langchain.llms import HuggingFaceHub\n",
    "from langchain.document_loaders import PyPDFLoader\n",
    "from langchain.text_splitter import RecursiveCharacterTextSplitter\n",
    "from langchain.embeddings import HuggingFaceBgeEmbeddings\n",
    "from langchain.vectorstores import Chroma\n",
    "from langchain.chains import RetrievalQA\n",
    "from langchain.prompts import PromptTemplate"
   ]
  },
  {
   "cell_type": "code",
   "execution_count": 5,
   "metadata": {},
   "outputs": [],
   "source": [
    "#Store in vector DB\n",
    "PERSIST_DIR = \"./db\""
   ]
  },
  {
   "cell_type": "code",
   "execution_count": 6,
   "metadata": {},
   "outputs": [],
   "source": [
    "#Create embeddings\n",
    "embeddings = HuggingFaceBgeEmbeddings(\n",
    "    model_name=\"BAAI/bge-large-en\",\n",
    "    query_instruction=\"Represent the query for retrieval:\",\n",
    "    model_kwargs={\"token\": os.getenv(\"HUGGINGFACEHUB_API_TOKEN\")}\n",
    ")"
   ]
  },
  {
   "cell_type": "code",
   "execution_count": null,
   "metadata": {},
   "outputs": [],
   "source": [
    "if os.path.exists(os.path.join(PERSIST_DIR, \"index\")):\n",
    "    print(\"🔁 Loading existing vector DB...\")\n",
    "    vectordb = Chroma(persist_directory=PERSIST_DIR, embedding_function=embeddings)\n",
    "else:\n",
    "    #Read PDF\n",
    "    pdf_loader = PyPDFLoader(\"DDD_Reference_2015-03.pdf\")\n",
    "    pdf_documents = pdf_loader.load()\n",
    "\n",
    "    # Split PDF textx into chunks\n",
    "    splitter = RecursiveCharacterTextSplitter(chunk_size=500, chunk_overlap=50)\n",
    "    chunks = splitter.split_documents(pdf_documents)\n",
    "   \n",
    "\n",
    "    vectordb = Chroma.from_documents(chunks, embeddings, persist_directory=\"./db\")\n",
    "    vectordb.persist()"
   ]
  },
  {
   "cell_type": "code",
   "execution_count": 8,
   "metadata": {},
   "outputs": [],
   "source": [
    "#load the vectordb and set up retrieval\n",
    "retriever = vectordb.as_retriever(search_kwargs={\"k\" : 3})"
   ]
  },
  {
   "cell_type": "code",
   "execution_count": 9,
   "metadata": {},
   "outputs": [
    {
     "name": "stderr",
     "output_type": "stream",
     "text": [
      "/var/folders/xk/rz9dwfbd6dd51vm92m5z9hd80000gn/T/ipykernel_7944/1869128686.py:2: LangChainDeprecationWarning: The class `HuggingFaceHub` was deprecated in LangChain 0.0.21 and will be removed in 1.0. An updated version of the class exists in the :class:`~langchain-huggingface package and should be used instead. To use it run `pip install -U :class:`~langchain-huggingface` and import as `from :class:`~langchain_huggingface import HuggingFaceEndpoint``.\n",
      "  llm = HuggingFaceHub(\n"
     ]
    }
   ],
   "source": [
    "#initialize LLM model\n",
    "llm = HuggingFaceHub(\n",
    "    huggingfacehub_api_token=os.getenv(\"HUGGINGFACEHUB_API_TOKEN\"),\n",
    "    repo_id=\"tiiuae/falcon-7b-instruct\",\n",
    "    model_kwargs={\"temperature\": 0.9, \"max_new_tokens\": 100}\n",
    ")"
   ]
  },
  {
   "cell_type": "code",
   "execution_count": 12,
   "metadata": {},
   "outputs": [],
   "source": [
    "qa_chain = RetrievalQA.from_chain_type(\n",
    "\n",
    "    llm=llm,\n",
    "    chain_type = \"stuff\",\n",
    "    retriever = retriever,\n",
    "    return_source_documents = True\n",
    ")"
   ]
  },
  {
   "cell_type": "code",
   "execution_count": 23,
   "metadata": {},
   "outputs": [
    {
     "name": "stderr",
     "output_type": "stream",
     "text": [
      "/var/folders/xk/rz9dwfbd6dd51vm92m5z9hd80000gn/T/ipykernel_7944/3680251079.py:2: LangChainDeprecationWarning: The method `Chain.__call__` was deprecated in langchain 0.1.0 and will be removed in 1.0. Use :meth:`~invoke` instead.\n",
      "  result = qa_chain(query)\n",
      "/Users/adwivedi/Documents/Python/Langchain/venv/lib/python3.11/site-packages/huggingface_hub/utils/_deprecation.py:131: FutureWarning: 'post' (from 'huggingface_hub.inference._client') is deprecated and will be removed from version '0.31.0'. Making direct POST requests to the inference server is not supported anymore. Please use task methods instead (e.g. `InferenceClient.chat_completion`). If your use case is not supported, please open an issue in https://github.com/huggingface/huggingface_hub.\n",
      "  warnings.warn(warning_message, FutureWarning)\n"
     ]
    },
    {
     "name": "stdout",
     "output_type": "stream",
     "text": [
      "{'query': 'what is bounded context? Explain me in 200 words', 'result': \"Use the following pieces of context to answer the question at the end. If you don't know the answer, just say that you don't know, don't try to make up an answer.\\n\\nI.\\t\\r \\xa0Putting\\t\\r \\xa0the\\t\\r \\xa0Model\\t\\r \\xa0to\\t\\r \\xa0Work\\t\\r \\xa0.........................................................................\\t\\r \\xa01\\t\\r \\xa0Bounded\\t\\r \\xa0Context\\t\\r \\xa0....................................................................................................................\\t\\r \\xa02\\t\\r \\xa0Ubiquitous\\t\\r \\xa0Language\\t\\r \\xa0...............................................................................................................\\t\\r \\xa03\\t\\r \\xa0Continuous\\t\\r \\xa0Integration\\n\\nI.\\t\\r \\xa0Putting\\t\\r \\xa0the\\t\\r \\xa0Model\\t\\r \\xa0to\\t\\r \\xa0Work\\t\\r \\xa0.........................................................................\\t\\r \\xa01\\t\\r \\xa0Bounded\\t\\r \\xa0Context\\t\\r \\xa0....................................................................................................................\\t\\r \\xa02\\t\\r \\xa0Ubiquitous\\t\\r \\xa0Language\\t\\r \\xa0...............................................................................................................\\t\\r \\xa03\\t\\r \\xa0Continuous\\t\\r \\xa0Integration\\n\\na\\t\\r \\xa0model\\t\\r \\xa0can\\t\\r \\xa0only\\t\\r \\xa0be\\t\\r \\xa0understood\\t\\r \\xa0in\\t\\r \\xa0a\\t\\r \\xa0context.\\t\\r \\xa0\\t\\r \\xa0bounded\\t\\r \\xa0context\\t\\r \\xa0A\\t\\r \\xa0description\\t\\r \\xa0of\\t\\r \\xa0a\\t\\r \\xa0boundary\\t\\r \\xa0(typically\\t\\r \\xa0a\\t\\r \\xa0subsystem,\\t\\r \\xa0or\\t\\r \\xa0the\\t\\r \\xa0work\\t\\r \\xa0of\\t\\r \\xa0a\\t\\r \\xa0particular\\t\\r \\xa0team)\\t\\r \\xa0within\\t\\r \\xa0which\\t\\r \\xa0a\\t\\r \\xa0particular\\t\\r \\xa0model\\t\\r \\xa0is\\t\\r \\xa0defined\\t\\r \\xa0and\\t\\r \\xa0applicable.\\n\\nQuestion: what is bounded context? Explain me in 200 words\\nHelpful Answer:\\n\\nBounded context is a model of an environment that describes the constraints and objectives of the system. It uses language that is familiar to developers to enable them to work with their system effectively. Bounded context enables developers to communicate, interoperate, and cooperate with each other by setting boundaries. In addition, bounded context allows developers to work in a consistent and scalable manner, which can help them avoid issues with performance or scalability in the future.\\n\\nBounded context is usually used in software development\", 'source_documents': [Document(metadata={'source': 'DDD_Reference_2015-03.pdf', 'page_label': '2', 'title': 'Microsoft Word - pdf version of final doc - Mar 2015.docx', 'moddate': \"D:20150419184838Z00'00'\", 'page': 1, 'keywords': '', 'producer': 'Mac OS X 10.10.2 Quartz PDFContext', 'creationdate': \"D:20150419184838Z00'00'\", 'creator': 'Word', 'total_pages': 59, 'aapl:keywords': '[]'}, page_content='I.\\t\\r \\xa0Putting\\t\\r \\xa0the\\t\\r \\xa0Model\\t\\r \\xa0to\\t\\r \\xa0Work\\t\\r \\xa0.........................................................................\\t\\r \\xa01\\t\\r \\xa0Bounded\\t\\r \\xa0Context\\t\\r \\xa0....................................................................................................................\\t\\r \\xa02\\t\\r \\xa0Ubiquitous\\t\\r \\xa0Language\\t\\r \\xa0...............................................................................................................\\t\\r \\xa03\\t\\r \\xa0Continuous\\t\\r \\xa0Integration'), Document(metadata={'keywords': '', 'producer': 'Mac OS X 10.10.2 Quartz PDFContext', 'title': 'Microsoft Word - pdf version of final doc - Mar 2015.docx', 'moddate': \"D:20150419184838Z00'00'\", 'creationdate': \"D:20150419184838Z00'00'\", 'creator': 'Word', 'total_pages': 59, 'page_label': '2', 'source': 'DDD_Reference_2015-03.pdf', 'page': 1, 'aapl:keywords': '[]'}, page_content='I.\\t\\r \\xa0Putting\\t\\r \\xa0the\\t\\r \\xa0Model\\t\\r \\xa0to\\t\\r \\xa0Work\\t\\r \\xa0.........................................................................\\t\\r \\xa01\\t\\r \\xa0Bounded\\t\\r \\xa0Context\\t\\r \\xa0....................................................................................................................\\t\\r \\xa02\\t\\r \\xa0Ubiquitous\\t\\r \\xa0Language\\t\\r \\xa0...............................................................................................................\\t\\r \\xa03\\t\\r \\xa0Continuous\\t\\r \\xa0Integration'), Document(metadata={'page_label': '6', 'moddate': \"D:20150419184838Z00'00'\", 'producer': 'Mac OS X 10.10.2 Quartz PDFContext', 'page': 5, 'total_pages': 59, 'aapl:keywords': '[]', 'title': 'Microsoft Word - pdf version of final doc - Mar 2015.docx', 'source': 'DDD_Reference_2015-03.pdf', 'creationdate': \"D:20150419184838Z00'00'\", 'creator': 'Word', 'keywords': ''}, page_content='a\\t\\r \\xa0model\\t\\r \\xa0can\\t\\r \\xa0only\\t\\r \\xa0be\\t\\r \\xa0understood\\t\\r \\xa0in\\t\\r \\xa0a\\t\\r \\xa0context.\\t\\r \\xa0\\t\\r \\xa0bounded\\t\\r \\xa0context\\t\\r \\xa0A\\t\\r \\xa0description\\t\\r \\xa0of\\t\\r \\xa0a\\t\\r \\xa0boundary\\t\\r \\xa0(typically\\t\\r \\xa0a\\t\\r \\xa0subsystem,\\t\\r \\xa0or\\t\\r \\xa0the\\t\\r \\xa0work\\t\\r \\xa0of\\t\\r \\xa0a\\t\\r \\xa0particular\\t\\r \\xa0team)\\t\\r \\xa0within\\t\\r \\xa0which\\t\\r \\xa0a\\t\\r \\xa0particular\\t\\r \\xa0model\\t\\r \\xa0is\\t\\r \\xa0defined\\t\\r \\xa0and\\t\\r \\xa0applicable.')]}\n"
     ]
    }
   ],
   "source": [
    "query = \"what is bounded context? Explain me in 200 words\"\n",
    "result = qa_chain(query)\n",
    "print(result)\n"
   ]
  },
  {
   "cell_type": "code",
   "execution_count": 25,
   "metadata": {},
   "outputs": [
    {
     "name": "stderr",
     "output_type": "stream",
     "text": [
      "/Users/adwivedi/Documents/Python/Langchain/venv/lib/python3.11/site-packages/huggingface_hub/utils/_deprecation.py:131: FutureWarning: 'post' (from 'huggingface_hub.inference._client') is deprecated and will be removed from version '0.31.0'. Making direct POST requests to the inference server is not supported anymore. Please use task methods instead (e.g. `InferenceClient.chat_completion`). If your use case is not supported, please open an issue in https://github.com/huggingface/huggingface_hub.\n",
      "  warnings.warn(warning_message, FutureWarning)\n"
     ]
    },
    {
     "name": "stdout",
     "output_type": "stream",
     "text": [
      "{'query': 'what is bounded context?', 'result': \"Use the following pieces of context to answer the question at the end. If you don't know the answer, just say that you don't know, don't try to make up an answer.\\n\\nI.\\t\\r \\xa0Putting\\t\\r \\xa0the\\t\\r \\xa0Model\\t\\r \\xa0to\\t\\r \\xa0Work\\t\\r \\xa0.........................................................................\\t\\r \\xa01\\t\\r \\xa0Bounded\\t\\r \\xa0Context\\t\\r \\xa0....................................................................................................................\\t\\r \\xa02\\t\\r \\xa0Ubiquitous\\t\\r \\xa0Language\\t\\r \\xa0...............................................................................................................\\t\\r \\xa03\\t\\r \\xa0Continuous\\t\\r \\xa0Integration\\n\\nI.\\t\\r \\xa0Putting\\t\\r \\xa0the\\t\\r \\xa0Model\\t\\r \\xa0to\\t\\r \\xa0Work\\t\\r \\xa0.........................................................................\\t\\r \\xa01\\t\\r \\xa0Bounded\\t\\r \\xa0Context\\t\\r \\xa0....................................................................................................................\\t\\r \\xa02\\t\\r \\xa0Ubiquitous\\t\\r \\xa0Language\\t\\r \\xa0...............................................................................................................\\t\\r \\xa03\\t\\r \\xa0Continuous\\t\\r \\xa0Integration\\n\\n40\\t\\r \\xa0Generic\\t\\r \\xa0Subdomains\\t\\r \\xa0.............................................................................................................\\t\\r \\xa041\\t\\r \\xa0Domain\\t\\r \\xa0Vision\\t\\r \\xa0Statement\\t\\r \\xa0.....................................................................................................\\t\\r \\xa042\\t\\r \\xa0Highlighted\\t\\r \\xa0Core\\t\\r \\xa0....................................................................................................................\\t\\r \\xa043\\t\\r \\xa0Cohesive\\t\\r \\xa0Mechanisms\\n\\nQuestion: what is bounded context?\\nHelpful Answer:\\n\\nBounded context refers to a specific area or range of an enterprise's business model where stakeholders understand the core values, the principles, the and requirements of the business process. It helps to establish common terminology, language, and processes across organizations to support efficiency, coordination, and collaboration. Examples of bounded context can include the technical architecture, industry, and regulations that on which an organization must function.\", 'source_documents': [Document(metadata={'creator': 'Word', 'source': 'DDD_Reference_2015-03.pdf', 'moddate': \"D:20150419184838Z00'00'\", 'keywords': '', 'page': 1, 'total_pages': 59, 'producer': 'Mac OS X 10.10.2 Quartz PDFContext', 'aapl:keywords': '[]', 'page_label': '2', 'creationdate': \"D:20150419184838Z00'00'\", 'title': 'Microsoft Word - pdf version of final doc - Mar 2015.docx'}, page_content='I.\\t\\r \\xa0Putting\\t\\r \\xa0the\\t\\r \\xa0Model\\t\\r \\xa0to\\t\\r \\xa0Work\\t\\r \\xa0.........................................................................\\t\\r \\xa01\\t\\r \\xa0Bounded\\t\\r \\xa0Context\\t\\r \\xa0....................................................................................................................\\t\\r \\xa02\\t\\r \\xa0Ubiquitous\\t\\r \\xa0Language\\t\\r \\xa0...............................................................................................................\\t\\r \\xa03\\t\\r \\xa0Continuous\\t\\r \\xa0Integration'), Document(metadata={'page': 1, 'producer': 'Mac OS X 10.10.2 Quartz PDFContext', 'title': 'Microsoft Word - pdf version of final doc - Mar 2015.docx', 'moddate': \"D:20150419184838Z00'00'\", 'keywords': '', 'total_pages': 59, 'creationdate': \"D:20150419184838Z00'00'\", 'aapl:keywords': '[]', 'creator': 'Word', 'page_label': '2', 'source': 'DDD_Reference_2015-03.pdf'}, page_content='I.\\t\\r \\xa0Putting\\t\\r \\xa0the\\t\\r \\xa0Model\\t\\r \\xa0to\\t\\r \\xa0Work\\t\\r \\xa0.........................................................................\\t\\r \\xa01\\t\\r \\xa0Bounded\\t\\r \\xa0Context\\t\\r \\xa0....................................................................................................................\\t\\r \\xa02\\t\\r \\xa0Ubiquitous\\t\\r \\xa0Language\\t\\r \\xa0...............................................................................................................\\t\\r \\xa03\\t\\r \\xa0Continuous\\t\\r \\xa0Integration'), Document(metadata={'page_label': '3', 'aapl:keywords': '[]', 'source': 'DDD_Reference_2015-03.pdf', 'keywords': '', 'producer': 'Mac OS X 10.10.2 Quartz PDFContext', 'page': 2, 'creationdate': \"D:20150419184838Z00'00'\", 'total_pages': 59, 'moddate': \"D:20150419184838Z00'00'\", 'title': 'Microsoft Word - pdf version of final doc - Mar 2015.docx', 'creator': 'Word'}, page_content='40\\t\\r \\xa0Generic\\t\\r \\xa0Subdomains\\t\\r \\xa0.............................................................................................................\\t\\r \\xa041\\t\\r \\xa0Domain\\t\\r \\xa0Vision\\t\\r \\xa0Statement\\t\\r \\xa0.....................................................................................................\\t\\r \\xa042\\t\\r \\xa0Highlighted\\t\\r \\xa0Core\\t\\r \\xa0....................................................................................................................\\t\\r \\xa043\\t\\r \\xa0Cohesive\\t\\r \\xa0Mechanisms')]}\n"
     ]
    }
   ],
   "source": [
    "result = qa_chain.invoke(\"what is bounded context?\")\n",
    "print(result)"
   ]
  },
  {
   "cell_type": "code",
   "execution_count": 26,
   "metadata": {},
   "outputs": [
    {
     "name": "stdout",
     "output_type": "stream",
     "text": [
      "\n",
      "Answer:\n",
      "Use the following pieces of context to answer the question at the end. If you don't know the answer, just say that you don't know, don't try to make up an answer.\n",
      "\n",
      "  Integration....................................................................................................\t....\t\n",
      "\n",
      "  Integration....................................................................................................\t....\t\n",
      "\n",
      "  Mechanisms..........................................................................................................\t\n",
      "\n",
      "Question: what is bounded context?\n",
      "Helpful Answer:\n",
      "\n",
      "Bounded context refers to a specific area or range of an enterprise's business model where stakeholders understand the core values, the principles, the and requirements of the business process. It helps to establish common terminology, language, and processes across organizations to support efficiency, coordination, and collaboration. Examples of bounded context can include the technical architecture, industry, and regulations that on which an organization must function.\n"
     ]
    }
   ],
   "source": [
    "print(\"\\nAnswer:\")\n",
    "print(result[\"result\"])"
   ]
  },
  {
   "cell_type": "markdown",
   "metadata": {},
   "source": []
  },
  {
   "cell_type": "code",
   "execution_count": 27,
   "metadata": {},
   "outputs": [
    {
     "name": "stdout",
     "output_type": "stream",
     "text": [
      "\n",
      "Sources:\n",
      "DDD_Reference_2015-03.pdf\n",
      "DDD_Reference_2015-03.pdf\n",
      "DDD_Reference_2015-03.pdf\n"
     ]
    }
   ],
   "source": [
    "print(\"\\nSources:\")\n",
    "for doc in result[\"source_documents\"]:\n",
    "    print(doc.metadata[\"source\"])"
   ]
  }
 ],
 "metadata": {
  "kernelspec": {
   "display_name": "venv",
   "language": "python",
   "name": "python3"
  },
  "language_info": {
   "codemirror_mode": {
    "name": "ipython",
    "version": 3
   },
   "file_extension": ".py",
   "mimetype": "text/x-python",
   "name": "python",
   "nbconvert_exporter": "python",
   "pygments_lexer": "ipython3",
   "version": "3.11.11"
  }
 },
 "nbformat": 4,
 "nbformat_minor": 2
}
